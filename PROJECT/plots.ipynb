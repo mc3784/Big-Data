{
 "cells": [
  {
   "cell_type": "code",
   "execution_count": 1,
   "metadata": {
    "collapsed": false
   },
   "outputs": [],
   "source": [
    "import numpy as np\n",
    "import pandas as pd\n",
    "\n",
    "df = pd.read_csv('Uber_data_jan-jun.csv', parse_dates=[0], sep=',')\n",
    "df=df.sort(['neighbourhood','Date'])\n",
    "gb = df.groupby('neighbourhood' )    \n",
    "neighborDf=[gb.get_group(x) for x in gb.groups]\n",
    "\n"
   ]
  },
  {
   "cell_type": "code",
   "execution_count": 2,
   "metadata": {
    "collapsed": true
   },
   "outputs": [],
   "source": [
    "def sum_week_after(row):\n",
    "    return df['count'].iloc[row['today_index']:row['end_week_after']+1].sum()\n",
    "def sum_week_before(row):\n",
    "    return df['count'].iloc[row['start_week_before']:row['today_index']+1].sum()\n",
    "\n"
   ]
  },
  {
   "cell_type": "code",
   "execution_count": 3,
   "metadata": {
    "collapsed": true
   },
   "outputs": [],
   "source": [
    "with open (\"weekAfter.txt\", \"r\") as myfile:\n",
    "    weekAfterFile=myfile.readlines()\n",
    "with open (\"weekBefore.txt\", \"r\") as myfile:\n",
    "    weekBeforeFile=myfile.readlines()"
   ]
  },
  {
   "cell_type": "code",
   "execution_count": 4,
   "metadata": {
    "collapsed": false
   },
   "outputs": [],
   "source": [
    "import ast\n",
    "weekAfter=ast.literal_eval(weekAfterFile[0])\n",
    "weekBefore=ast.literal_eval(weekBeforeFile[0])\n"
   ]
  },
  {
   "cell_type": "code",
   "execution_count": 5,
   "metadata": {
    "collapsed": true
   },
   "outputs": [],
   "source": [
    "def sortedDictValues(adict):\n",
    "    items = adict.items()\n",
    "    items.sort()\n",
    "    return items"
   ]
  },
  {
   "cell_type": "code",
   "execution_count": 17,
   "metadata": {
    "collapsed": false
   },
   "outputs": [],
   "source": [
    "import matplotlib.pyplot as plt\n",
    "import matplotlib.dates as mdates\n",
    "%matplotlib inline  \n",
    "def plotByNeibor(neighbourhood,savePlot):\n",
    "    dict1=weekAfter[neighbourhood]\n",
    "    dict2=weekBefore[neighbourhood]\n",
    "    try:\n",
    "        diff = {key: float(dict1[key]-dict2[key])/float(dict1[key]+dict2[key]) for key in dict1 if key in dict2}\n",
    "        absDiff = map(abs, diff.values())\n",
    "        diffSorted=sortedDictValues(diff)\n",
    "        val=[value for key, value in diffSorted]\n",
    "        keys=[key for key, value in diffSorted]\n",
    "        neighbourhood=neighbourhood.replace(\"/\",\"-\")\n",
    "        filename=\"plots/\"+neighbourhood+\".jpeg\"\n",
    "        plt.hist(val,100)\n",
    "        plt.gcf().autofmt_xdate()\n",
    "        plt.xlabel(\"(weekAfter-weekBefore)/(weekAfter+weekBefore)\")\n",
    "        plt.ylabel(\"Count\")\n",
    "        plt.title(neighbourhood)\n",
    "        if savePlot:\n",
    "            plt.savefig(filename)\n",
    "        else:\n",
    "            plt.show()        \n",
    "        #plt.gcf()\n",
    "        plt.clf()\n",
    "    except:\n",
    "        print \"problem at: \",neighbourhood\n"
   ]
  },
  {
   "cell_type": "code",
   "execution_count": 18,
   "metadata": {
    "collapsed": false
   },
   "outputs": [
    {
     "data": {
      "text/plain": [
       "<matplotlib.figure.Figure at 0x10722c190>"
      ]
     },
     "metadata": {},
     "output_type": "display_data"
    }
   ],
   "source": [
    "plotByNeibor('Upper West Side South',True)"
   ]
  },
  {
   "cell_type": "code",
   "execution_count": 19,
   "metadata": {
    "collapsed": false
   },
   "outputs": [
    {
     "name": "stdout",
     "output_type": "stream",
     "text": [
      "problem at:  Rossville/Woodrow\n",
      "problem at:  Governor's Island/Ellis Island/Liberty Island\n",
      "problem at:  Freshkills Park\n",
      "problem at:  Arden Heights\n",
      "problem at:  Charleston/Tottenville\n",
      "problem at:  Great Kills Park\n",
      "problem at:  Crotona Park\n",
      "problem at:  Jamaica Bay\n",
      "problem at:  Broad Channel\n",
      "problem at:  Breezy Point/Fort Tilden/Riis Beach\n",
      "problem at:  Eltingville/Annadale/Prince's Bay\n"
     ]
    },
    {
     "data": {
      "text/plain": [
       "<matplotlib.figure.Figure at 0x10625b590>"
      ]
     },
     "metadata": {},
     "output_type": "display_data"
    }
   ],
   "source": [
    "for k in weekAfter.keys():\n",
    "    plotByNeibor(k,True)"
   ]
  },
  {
   "cell_type": "code",
   "execution_count": null,
   "metadata": {
    "collapsed": false
   },
   "outputs": [],
   "source": [
    "neighbourhood='Upper West Side South'\n",
    "dict1=weekAfter[neighbourhood]\n",
    "dict2=weekBefore[neighbourhood]\n",
    "diff = {key: (dict1[key]-dict2[key]) for key in dict1 if key in dict2 and dict1[key]-dict2[key]>4000}\n",
    "diff"
   ]
  },
  {
   "cell_type": "code",
   "execution_count": null,
   "metadata": {
    "collapsed": false
   },
   "outputs": [],
   "source": [
    "print dict1['2015-01-01']\n",
    "print dict2['2015-01-01']"
   ]
  },
  {
   "cell_type": "code",
   "execution_count": null,
   "metadata": {
    "collapsed": true
   },
   "outputs": [],
   "source": []
  }
 ],
 "metadata": {
  "kernelspec": {
   "display_name": "Python 2",
   "language": "python",
   "name": "python2"
  },
  "language_info": {
   "codemirror_mode": {
    "name": "ipython",
    "version": 2
   },
   "file_extension": ".py",
   "mimetype": "text/x-python",
   "name": "python",
   "nbconvert_exporter": "python",
   "pygments_lexer": "ipython2",
   "version": "2.7.10"
  }
 },
 "nbformat": 4,
 "nbformat_minor": 0
}
